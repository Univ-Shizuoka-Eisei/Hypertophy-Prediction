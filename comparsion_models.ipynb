{
  "metadata": {
    "kernelspec": {
      "language": "python",
      "display_name": "Python 3",
      "name": "python3"
    },
    "language_info": {
      "name": "python",
      "version": "3.10.12",
      "mimetype": "text/x-python",
      "codemirror_mode": {
        "name": "ipython",
        "version": 3
      },
      "pygments_lexer": "ipython3",
      "nbconvert_exporter": "python",
      "file_extension": ".py"
    },
    "kaggle": {
      "accelerator": "none",
      "dataSources": [
        {
          "sourceId": 7252245,
          "sourceType": "datasetVersion",
          "datasetId": 4201966
        }
      ],
      "dockerImageVersionId": 30627,
      "isInternetEnabled": true,
      "language": "python",
      "sourceType": "notebook",
      "isGpuEnabled": false
    },
    "colab": {
      "provenance": []
    }
  },
  "nbformat_minor": 0,
  "nbformat": 4,
  "cells": [
    {
      "cell_type": "code",
      "source": [
        "%%capture\n",
        "!pip install --user pycaret -full\n",
        "!pip install numba==0.53"
      ],
      "metadata": {
        "execution": {
          "iopub.status.busy": "2024-11-11T07:58:52.146367Z",
          "iopub.execute_input": "2024-11-11T07:58:52.146800Z",
          "iopub.status.idle": "2024-11-11T07:59:33.218787Z",
          "shell.execute_reply.started": "2024-11-11T07:58:52.146763Z",
          "shell.execute_reply": "2024-11-11T07:59:33.217297Z"
        },
        "trusted": true,
        "id": "xPpTENfOar84"
      },
      "outputs": [],
      "execution_count": null
    },
    {
      "cell_type": "code",
      "source": [
        "import pandas as pd\n",
        "import numpy as np\n",
        "\n",
        "import lightgbm as lgbm\n",
        "import xgboost as xgb\n",
        "\n",
        "from sklearn.model_selection import StratifiedGroupKFold, GroupKFold, KFold\n",
        "from sklearn.ensemble import RandomForestClassifier\n",
        "\n",
        "from sklearn.metrics import f1_score\n",
        "from sklearn.metrics import precision_score\n",
        "from sklearn.metrics import recall_score\n",
        "from sklearn.metrics import roc_auc_score\n",
        "from sklearn.metrics import balanced_accuracy_score\n",
        "from sklearn.metrics import average_precision_score, accuracy_score\n",
        "\n",
        "import os\n",
        "import pickle\n",
        "import pathlib\n",
        "from collections import defaultdict\n",
        "\n",
        "from sklearn.ensemble import RandomForestClassifier\n",
        "import sklearn\n",
        "\n",
        "# from pycaret.classification import *\n",
        "\n",
        "# datasetのパス、学習済みモデルの保存先\n",
        "base_dir = pathlib.Path('/content/drive/MyDrive/Ikoma Paper')\n",
        "dataset_path = base_dir / 'dataset.csv'\n",
        "dataset_df = pd.read_csv(dataset_path)\n",
        "save_dir = base_dir / '5fold'\n",
        "save_dir.mkdir(exist_ok=True, parents=True)\n"
      ],
      "metadata": {
        "id": "TfdP_ZpaHvkN",
        "execution": {
          "iopub.status.busy": "2024-11-11T07:59:33.221487Z",
          "iopub.execute_input": "2024-11-11T07:59:33.222421Z",
          "iopub.status.idle": "2024-11-11T07:59:42.932894Z",
          "shell.execute_reply.started": "2024-11-11T07:59:33.222374Z",
          "shell.execute_reply": "2024-11-11T07:59:42.931717Z"
        },
        "trusted": true
      },
      "outputs": [],
      "execution_count": null
    },
    {
      "cell_type": "code",
      "source": [
        "feature_gene = dataset_df.columns[2:-9]\n",
        "feature_gene"
      ],
      "metadata": {
        "trusted": true,
        "id": "UFl0PQB0ar89"
      },
      "outputs": [],
      "execution_count": null
    },
    {
      "cell_type": "code",
      "source": [
        "display(dataset_df['fold'].value_counts())\n",
        "print(len(feature_gene))"
      ],
      "metadata": {
        "trusted": true,
        "id": "vYsvnUxVar8-"
      },
      "outputs": [],
      "execution_count": null
    },
    {
      "cell_type": "markdown",
      "source": [
        "# Model Training and Evaluation\n",
        "\n",
        "We trained and compared the following machine learning models:\n",
        "\n",
        "*   RandomForest\n",
        "*   LightGBM\n",
        "*   XGBoost\n",
        "*   Logistic Regression\n",
        "*   SVM\n",
        "*   KNN\n",
        "\n",
        "Each model was trained using a 5-fold cross-validation approach. The performance of each model was evaluated using the Receiver Operating Characteristic (ROC) curve and the Area Under the Curve (AUC) metric.\n"
      ],
      "metadata": {
        "id": "y8qMdMmqcxZk"
      }
    },
    {
      "cell_type": "code",
      "source": [
        "import pandas as pd\n",
        "import numpy as np\n",
        "from sklearn.model_selection import StratifiedKFold\n",
        "from sklearn.metrics import roc_curve, auc\n",
        "from sklearn.ensemble import RandomForestClassifier\n",
        "from lightgbm import LGBMClassifier\n",
        "from xgboost import XGBClassifier\n",
        "from sklearn.linear_model import LogisticRegression\n",
        "from sklearn.svm import SVC\n",
        "from sklearn.neighbors import KNeighborsClassifier\n",
        "import matplotlib.pyplot as plt\n",
        "\n",
        "# Convert column names to strings\n",
        "df.columns = df.columns.astype(str)\n",
        "\n",
        "# Define each model (LightGBM and XGBoost are set to use GPU)\n",
        "models = {\n",
        "    'RandomForest': RandomForestClassifier(),\n",
        "    'LightGBM': LGBMClassifier(device='gpu'),\n",
        "    'XGBoost': XGBClassifier(tree_method='gpu_hist'),\n",
        "    'Logistic Regression': LogisticRegression(),\n",
        "    'SVM': SVC(probability=True),\n",
        "    'KNN': KNeighborsClassifier()\n",
        "}\n",
        "\n",
        "# Dictionary to store results\n",
        "results = {model_name: {\"fpr\": [], \"tpr\": [], \"aucs\": [], \"mean_fpr\": np.linspace(0, 1, 100)} for model_name in models.keys()}\n",
        "\n",
        "# Prepare the figure for plotting\n",
        "plt.figure(figsize=(10, 8))\n",
        "\n",
        "# Plot the ROC curve for each model\n",
        "for model_name, model in models.items():\n",
        "    tprs = []\n",
        "    aucs = []\n",
        "    mean_fpr = results[model_name][\"mean_fpr\"]\n",
        "\n",
        "    for fold in range(5):\n",
        "        print(f'{model_name}, {fold}')\n",
        "\n",
        "        # Split training and validation data\n",
        "        train_df = dataset_df[dataset_df['fold'] != fold]\n",
        "        valid_df = dataset_df[dataset_df['fold'] == fold]\n",
        "\n",
        "        train_X, train_y = train_df[feature_gene], train_df['label']\n",
        "        valid_X, valid_y = valid_df[feature_gene], valid_df['label']\n",
        "\n",
        "        # Train the model\n",
        "        trained_model = model.fit(train_X, train_y)\n",
        "        pred = trained_model.predict_proba(valid_X)[:, 1]\n",
        "\n",
        "        # Compute ROC curve and AUC\n",
        "        fpr, tpr, _ = roc_curve(valid_y, pred)\n",
        "        roc_auc = auc(fpr, tpr)\n",
        "        interp_tpr = np.interp(mean_fpr, fpr, tpr)\n",
        "        interp_tpr[0] = 0.0\n",
        "        tprs.append(interp_tpr)\n",
        "        aucs.append(roc_auc)\n",
        "\n",
        "        # Save FPR, TPR, and AUC for each fold\n",
        "        results[model_name][\"fpr\"].append(fpr)\n",
        "        results[model_name][\"tpr\"].append(tpr)\n",
        "        results[model_name][\"aucs\"].append(roc_auc)\n",
        "\n",
        "    # Compute and store the mean ROC curve\n",
        "    mean_tpr = np.mean(tprs, axis=0)\n",
        "    mean_tpr[-1] = 1.0\n",
        "    mean_auc = auc(mean_fpr, mean_tpr)\n",
        "    std_auc = np.std(aucs)\n",
        "    results[model_name][\"mean_tpr\"] = mean_tpr\n",
        "    results[model_name][\"mean_auc\"] = mean_auc\n",
        "    results[model_name][\"std_auc\"] = std_auc\n",
        "\n",
        "    # Plot the ROC curve\n",
        "    plt.plot(mean_fpr, mean_tpr, label=f'{model_name} (AUC = {mean_auc:.2f} ± {std_auc:.2f})')\n",
        "\n",
        "# Finalize the ROC curve plot\n",
        "plt.plot([0, 1], [0, 1], linestyle='--', lw=2, color='r', label='Chance', alpha=.8)\n",
        "plt.xlim([-0.05, 1.05])\n",
        "plt.ylim([-0.05, 1.05])\n",
        "plt.xlabel('False Positive Rate')\n",
        "plt.ylabel('True Positive Rate')\n",
        "plt.title('Receiver Operating Characteristic')\n",
        "plt.legend(loc=\"lower right\")\n",
        "plt.show()\n",
        "\n",
        "# Save results to a file (e.g., using np.savez)\n",
        "np.savez(\"roc_data.npz\", results=results)\n"
      ],
      "metadata": {
        "trusted": true,
        "execution": {
          "iopub.status.busy": "2024-11-11T07:59:44.162011Z",
          "iopub.execute_input": "2024-11-11T07:59:44.163187Z"
        },
        "id": "ApI32YH3ar8_",
        "outputId": "60749ad7-cced-4239-98d9-558688bf4029"
      },
      "outputs": [
        {
          "name": "stdout",
          "text": "RandomForest, 0\nRandomForest, 1\nRandomForest, 2\nRandomForest, 3\nRandomForest, 4\nLightGBM, 0\nLightGBM, 1\nLightGBM, 2\nLightGBM, 3\nLightGBM, 4\nXGBoost, 0\nXGBoost, 1\nXGBoost, 2\nXGBoost, 3\nXGBoost, 4\nLogistic Regression, 0\nLogistic Regression, 1\nLogistic Regression, 2\nLogistic Regression, 3\nLogistic Regression, 4\nSVM, 0\n",
          "output_type": "stream"
        }
      ],
      "execution_count": null
    },
    {
      "cell_type": "code",
      "source": [],
      "metadata": {
        "trusted": true,
        "id": "s26_5WUqar9B"
      },
      "outputs": [],
      "execution_count": null
    }
  ]
}